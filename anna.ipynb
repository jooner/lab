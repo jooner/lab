{
 "cells": [
  {
   "cell_type": "code",
   "execution_count": 1,
   "metadata": {},
   "outputs": [],
   "source": [
    "import numpy as np\n",
    "from tqdm import tqdm\n",
    "from pandas import read_csv\n",
    "from tqdm import tnrange, tqdm_notebook\n",
    "from nltk import word_tokenize\n",
    "\n",
    "import torch\n",
    "from torch import optim\n",
    "from torch.autograd import Variable\n",
    "import torch.nn as nn\n",
    "import torch.nn.functional as F"
   ]
  },
  {
   "cell_type": "code",
   "execution_count": 2,
   "metadata": {},
   "outputs": [],
   "source": [
    "with open('tolstoy_anna.txt', 'r') as f:\n",
    "    txt = f.readlines()\n",
    "txt = [x.strip() for x in txt]\n",
    "txt_str = ''\n",
    "for t in txt:\n",
    "    txt_str += ' {}'.format(t.lower())"
   ]
  },
  {
   "cell_type": "code",
   "execution_count": 3,
   "metadata": {
    "scrolled": true
   },
   "outputs": [],
   "source": [
    "tokens = word_tokenize(txt_str)"
   ]
  },
  {
   "cell_type": "code",
   "execution_count": 4,
   "metadata": {
    "scrolled": true
   },
   "outputs": [],
   "source": [
    "# word2idx and idx2word setup\n",
    "unique_tokens = set(tokens)\n",
    "w2x = {word: idx for (idx, word) in enumerate(unique_tokens)}\n",
    "x2w = {idx: word for (idx, word) in enumerate(unique_tokens)}\n",
    "indices = [w2x[w] for w in tokens]"
   ]
  },
  {
   "cell_type": "code",
   "execution_count": 5,
   "metadata": {},
   "outputs": [],
   "source": [
    "vocab_size = len(unique_tokens)"
   ]
  },
  {
   "cell_type": "code",
   "execution_count": 6,
   "metadata": {},
   "outputs": [],
   "source": [
    "# generate training data\n",
    "window = 2\n",
    "train_data = []\n",
    "for idx in range(len(indices)):\n",
    "    for r in range(-window, window + 1):\n",
    "        cxt = idx + r\n",
    "        if not ((cxt < 0) or (cxt >= len(indices)) or (idx == cxt)):\n",
    "            train_data.append([indices[idx], indices[cxt]])\n",
    "train_data = np.array(train_data)\n",
    "train_data = torch.LongTensor(train_data)"
   ]
  },
  {
   "cell_type": "code",
   "execution_count": 7,
   "metadata": {
    "scrolled": true
   },
   "outputs": [
    {
     "name": "stdout",
     "output_type": "stream",
     "text": [
      "serge ,\n",
      "curtains the\n",
      "curtains serge\n",
      "curtains ,\n",
      "curtains he\n",
      ", serge\n",
      ", curtains\n",
      ", he\n",
      ", cheerfully\n",
      "he curtains\n",
      "he ,\n",
      "he cheerfully\n",
      "he dropped\n",
      "cheerfully ,\n",
      "cheerfully he\n",
      "cheerfully dropped\n",
      "cheerfully his\n",
      "dropped he\n",
      "dropped cheerfully\n",
      "dropped his\n"
     ]
    }
   ],
   "source": [
    "# sanity check\n",
    "for [x, y] in train_data[2100:2120]:\n",
    "    print(x2w[int(x)], x2w[int(y)])\n",
    "# clean memory\n",
    "# del indices\n",
    "# del tokens"
   ]
  },
  {
   "cell_type": "code",
   "execution_count": 36,
   "metadata": {},
   "outputs": [],
   "source": [
    "# Continuous Bag-of-Words Model\n",
    "class CBOW(nn.Module):\n",
    "    def __init__(self, vocab_size, embedding_dim, hidden_dim,\n",
    "                 context_size, batch_size):\n",
    "        super(CBOW, self).__init__()\n",
    "        self.batch_size = batch_size\n",
    "        self.embed = nn.Embedding(vocab_size, embedding_dim)\n",
    "        self.fc1 = nn.Linear(embedding_dim, hidden_dim)\n",
    "        self.fc2 = nn.Linear(hidden_dim, vocab_size)\n",
    "        self.out = nn.Softmax(dim=2)\n",
    "\n",
    "    def forward(self, x):\n",
    "        x = self.embed(x).view(self.batch_size, 1, -1)\n",
    "        x = F.relu(self.fc1(x))\n",
    "        x = self.fc2(x)\n",
    "        return self.out(x).squeeze()\n",
    "\n",
    "model = CBOW(vocab_size=vocab_size, embedding_dim=100, hidden_dim=128,\n",
    "             context_size=2, batch_size=128)"
   ]
  },
  {
   "cell_type": "code",
   "execution_count": 41,
   "metadata": {},
   "outputs": [],
   "source": [
    "def one_hot(idx_batch):\n",
    "    one_hot_mat = torch.zeros((len(idx_batch), vocab_size)).float()\n",
    "    indices = torch.LongTensor(idx_batch).view(-1, 1)\n",
    "    one_hot_mat.scatter_(1, indices, 1.0)\n",
    "    return one_hot_mat\n",
    "\n",
    "\n",
    "def mat_loss(pred, gt):\n",
    "    delta = torch.exp(pred - Variable(gt))\n",
    "    norm = torch.norm(delta, p=2, dim=1)\n",
    "    return (torch.sum(norm) / gt.shape[1])\n",
    "\n",
    "\n",
    "def batchify(data, batch_size, use_cuda=False):\n",
    "    rm_size = len(data) % batch_size\n",
    "    x = data[:-rm_size, 0].contiguous()\n",
    "    y = data[:-rm_size, 1].contiguous()\n",
    "    if use_cuda:\n",
    "        x = x.view(-1, batch_size).cuda()\n",
    "    else:\n",
    "        x = x.view(-1, batch_size)\n",
    "    y = y.view(-1, batch_size)\n",
    "    return x, y"
   ]
  },
  {
   "cell_type": "code",
   "execution_count": 42,
   "metadata": {},
   "outputs": [],
   "source": [
    "x, y = batchify(train_data, batch_size=128, use_cuda=False)"
   ]
  },
  {
   "cell_type": "code",
   "execution_count": 43,
   "metadata": {},
   "outputs": [],
   "source": [
    "def train(x_train, y_train, num_epochs, use_cuda=False):\n",
    "    loss_fn = mat_loss\n",
    "    optimizer = optim.SGD(model.parameters(), lr=1e-3)\n",
    "    scheduler = optim.lr_scheduler.StepLR(optimizer,\n",
    "                                          step_size=1000,\n",
    "                                          gamma=0.9)\n",
    "    x_train = Variable(x_train)\n",
    "    for epoch in tnrange(num_epochs, desc='epoch'):\n",
    "        total_loss = 0\n",
    "        for batch_idx in tqdm_notebook(range(x_train.shape[0]),\n",
    "                                       desc='batch', leave=False):\n",
    "            x = x_train[batch_idx, :]\n",
    "            y = y_train[batch_idx, :]\n",
    "            model.zero_grad()\n",
    "            log_prob = model(x)\n",
    "            gt = one_hot(y)\n",
    "            loss = loss_fn(log_prob, gt)\n",
    "            loss.backward()\n",
    "            scheduler.step()\n",
    "            total_loss += loss.data\n",
    "            if batch_idx % 2000 == 0:\n",
    "                num_seen = (batch_idx + 1) * x_train.shape[1]\n",
    "                l = np.log(float(total_loss / num_seen))\n",
    "                print(\"BATCH: {}/{} | AVG LOG LOSS: {}\".format(batch_idx + 1,\n",
    "                                                           x_train.shape[0],\n",
    "                                                           l))\n",
    "            if batch_idx % (x_train.shape[0] // 4) == 0:\n",
    "                torch.save(model.state_dict(), 'models/model_{}.pt'.format(epoch+5))\n",
    "                print(\"Successfully saved model\")"
   ]
  },
  {
   "cell_type": "code",
   "execution_count": 44,
   "metadata": {
    "scrolled": false
   },
   "outputs": [
    {
     "data": {
      "application/vnd.jupyter.widget-view+json": {
       "model_id": "012e0e9a6ef34ccfa1550035f815b7a0",
       "version_major": 2,
       "version_minor": 0
      },
      "text/plain": [
       "HBox(children=(IntProgress(value=0, description='epoch', max=10), HTML(value='')))"
      ]
     },
     "metadata": {},
     "output_type": "display_data"
    },
    {
     "data": {
      "application/vnd.jupyter.widget-view+json": {
       "model_id": "",
       "version_major": 2,
       "version_minor": 0
      },
      "text/plain": [
       "HBox(children=(IntProgress(value=0, description='batch', max=13463), HTML(value='')))"
      ]
     },
     "metadata": {},
     "output_type": "display_data"
    },
    {
     "name": "stdout",
     "output_type": "stream",
     "text": [
      "BATCH: 1/13463 | AVG LOG LOSS: -4.810524642346785\n",
      "Successfully saved model\n",
      "BATCH: 2001/13463 | AVG LOG LOSS: -4.810536536139335\n",
      "Successfully saved model\n",
      "BATCH: 4001/13463 | AVG LOG LOSS: -4.8104819859658265\n",
      "BATCH: 6001/13463 | AVG LOG LOSS: -4.810463803235908\n",
      "Successfully saved model\n",
      "BATCH: 8001/13463 | AVG LOG LOSS: -4.810463002745963\n",
      "BATCH: 10001/13463 | AVG LOG LOSS: -4.810549573728305\n",
      "Successfully saved model\n",
      "BATCH: 12001/13463 | AVG LOG LOSS: -4.810607215632338\n",
      "Successfully saved model\n"
     ]
    },
    {
     "data": {
      "application/vnd.jupyter.widget-view+json": {
       "model_id": "b8f24b0596e54d419546af3d3ce7a545",
       "version_major": 2,
       "version_minor": 0
      },
      "text/plain": [
       "HBox(children=(IntProgress(value=0, description='batch', max=13463), HTML(value='')))"
      ]
     },
     "metadata": {},
     "output_type": "display_data"
    },
    {
     "name": "stdout",
     "output_type": "stream",
     "text": [
      "BATCH: 1/13463 | AVG LOG LOSS: -4.810524642346785\n",
      "Successfully saved model\n",
      "\n"
     ]
    },
    {
     "ename": "KeyboardInterrupt",
     "evalue": "",
     "output_type": "error",
     "traceback": [
      "\u001b[0;31m---------------------------------------------------------------------------\u001b[0m",
      "\u001b[0;31mKeyboardInterrupt\u001b[0m                         Traceback (most recent call last)",
      "\u001b[0;32m<ipython-input-44-294286c3c79e>\u001b[0m in \u001b[0;36m<module>\u001b[0;34m()\u001b[0m\n\u001b[0;32m----> 1\u001b[0;31m \u001b[0mtrain\u001b[0m\u001b[0;34m(\u001b[0m\u001b[0mx\u001b[0m\u001b[0;34m,\u001b[0m \u001b[0my\u001b[0m\u001b[0;34m,\u001b[0m \u001b[0mnum_epochs\u001b[0m\u001b[0;34m=\u001b[0m\u001b[0;36m10\u001b[0m\u001b[0;34m,\u001b[0m \u001b[0muse_cuda\u001b[0m\u001b[0;34m=\u001b[0m\u001b[0;32mFalse\u001b[0m\u001b[0;34m)\u001b[0m\u001b[0;34m\u001b[0m\u001b[0m\n\u001b[0m",
      "\u001b[0;32m<ipython-input-43-86c9fc5a8250>\u001b[0m in \u001b[0;36mtrain\u001b[0;34m(x_train, y_train, num_epochs, use_cuda)\u001b[0m\n\u001b[1;32m     15\u001b[0m             \u001b[0mlog_prob\u001b[0m \u001b[0;34m=\u001b[0m \u001b[0mmodel\u001b[0m\u001b[0;34m(\u001b[0m\u001b[0mx\u001b[0m\u001b[0;34m)\u001b[0m\u001b[0;34m\u001b[0m\u001b[0m\n\u001b[1;32m     16\u001b[0m             \u001b[0mgt\u001b[0m \u001b[0;34m=\u001b[0m \u001b[0mone_hot\u001b[0m\u001b[0;34m(\u001b[0m\u001b[0my\u001b[0m\u001b[0;34m)\u001b[0m\u001b[0;34m\u001b[0m\u001b[0m\n\u001b[0;32m---> 17\u001b[0;31m             \u001b[0mloss\u001b[0m \u001b[0;34m=\u001b[0m \u001b[0mloss_fn\u001b[0m\u001b[0;34m(\u001b[0m\u001b[0mlog_prob\u001b[0m\u001b[0;34m,\u001b[0m \u001b[0mgt\u001b[0m\u001b[0;34m)\u001b[0m\u001b[0;34m\u001b[0m\u001b[0m\n\u001b[0m\u001b[1;32m     18\u001b[0m             \u001b[0mloss\u001b[0m\u001b[0;34m.\u001b[0m\u001b[0mbackward\u001b[0m\u001b[0;34m(\u001b[0m\u001b[0;34m)\u001b[0m\u001b[0;34m\u001b[0m\u001b[0m\n\u001b[1;32m     19\u001b[0m             \u001b[0mscheduler\u001b[0m\u001b[0;34m.\u001b[0m\u001b[0mstep\u001b[0m\u001b[0;34m(\u001b[0m\u001b[0;34m)\u001b[0m\u001b[0;34m\u001b[0m\u001b[0m\n",
      "\u001b[0;32m<ipython-input-41-20a173a08971>\u001b[0m in \u001b[0;36mmat_loss\u001b[0;34m(pred, gt)\u001b[0m\n\u001b[1;32m      7\u001b[0m \u001b[0;34m\u001b[0m\u001b[0m\n\u001b[1;32m      8\u001b[0m \u001b[0;32mdef\u001b[0m \u001b[0mmat_loss\u001b[0m\u001b[0;34m(\u001b[0m\u001b[0mpred\u001b[0m\u001b[0;34m,\u001b[0m \u001b[0mgt\u001b[0m\u001b[0;34m)\u001b[0m\u001b[0;34m:\u001b[0m\u001b[0;34m\u001b[0m\u001b[0m\n\u001b[0;32m----> 9\u001b[0;31m     \u001b[0mdelta\u001b[0m \u001b[0;34m=\u001b[0m \u001b[0mtorch\u001b[0m\u001b[0;34m.\u001b[0m\u001b[0mexp\u001b[0m\u001b[0;34m(\u001b[0m\u001b[0mpred\u001b[0m \u001b[0;34m-\u001b[0m \u001b[0mVariable\u001b[0m\u001b[0;34m(\u001b[0m\u001b[0mgt\u001b[0m\u001b[0;34m)\u001b[0m\u001b[0;34m)\u001b[0m\u001b[0;34m\u001b[0m\u001b[0m\n\u001b[0m\u001b[1;32m     10\u001b[0m     \u001b[0mnorm\u001b[0m \u001b[0;34m=\u001b[0m \u001b[0mtorch\u001b[0m\u001b[0;34m.\u001b[0m\u001b[0mnorm\u001b[0m\u001b[0;34m(\u001b[0m\u001b[0mdelta\u001b[0m\u001b[0;34m,\u001b[0m \u001b[0mp\u001b[0m\u001b[0;34m=\u001b[0m\u001b[0;36m2\u001b[0m\u001b[0;34m,\u001b[0m \u001b[0mdim\u001b[0m\u001b[0;34m=\u001b[0m\u001b[0;36m1\u001b[0m\u001b[0;34m)\u001b[0m\u001b[0;34m\u001b[0m\u001b[0m\n\u001b[1;32m     11\u001b[0m     \u001b[0;32mreturn\u001b[0m \u001b[0;34m(\u001b[0m\u001b[0mtorch\u001b[0m\u001b[0;34m.\u001b[0m\u001b[0msum\u001b[0m\u001b[0;34m(\u001b[0m\u001b[0mnorm\u001b[0m\u001b[0;34m)\u001b[0m \u001b[0;34m/\u001b[0m \u001b[0mgt\u001b[0m\u001b[0;34m.\u001b[0m\u001b[0mshape\u001b[0m\u001b[0;34m[\u001b[0m\u001b[0;36m1\u001b[0m\u001b[0;34m]\u001b[0m\u001b[0;34m)\u001b[0m\u001b[0;34m\u001b[0m\u001b[0m\n",
      "\u001b[0;31mKeyboardInterrupt\u001b[0m: "
     ]
    }
   ],
   "source": [
    "train(x, y, num_epochs=10, use_cuda=False)"
   ]
  },
  {
   "cell_type": "code",
   "execution_count": 35,
   "metadata": {},
   "outputs": [
    {
     "name": "stdout",
     "output_type": "stream",
     "text": [
      "model_0.0.pt  model_10.pt   model_13.pt   model_3.pt    model_7.pt\r\n",
      "model_0.pt    model_11.pt   model_14.pt   model_5.pt    model_8.pt\r\n",
      "model_1.pt    model_12.pt   model_2.pt    model_6.pt    model_9.pt\r\n"
     ]
    }
   ],
   "source": [
    "ls models"
   ]
  },
  {
   "cell_type": "code",
   "execution_count": null,
   "metadata": {},
   "outputs": [],
   "source": []
  }
 ],
 "metadata": {
  "kernelspec": {
   "display_name": "Python 3",
   "language": "python",
   "name": "python3"
  },
  "language_info": {
   "codemirror_mode": {
    "name": "ipython",
    "version": 3
   },
   "file_extension": ".py",
   "mimetype": "text/x-python",
   "name": "python",
   "nbconvert_exporter": "python",
   "pygments_lexer": "ipython3",
   "version": "3.6.5"
  }
 },
 "nbformat": 4,
 "nbformat_minor": 2
}
