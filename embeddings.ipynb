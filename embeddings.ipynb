{
 "cells": [
  {
   "cell_type": "code",
   "execution_count": null,
   "metadata": {},
   "outputs": [],
   "source": [
    "import string\n",
    "\n",
    "import numpy as np\n",
    "from tqdm import tnrange, tqdm_notebook\n",
    "from pandas import read_csv\n",
    "from nltk import word_tokenize\n",
    "\n",
    "import torch\n",
    "from torch import optim\n",
    "import torch.nn as nn\n",
    "import torch.nn.functional as F"
   ]
  },
  {
   "cell_type": "markdown",
   "metadata": {},
   "source": [
    "# 1. Data Import and Cleaning"
   ]
  },
  {
   "cell_type": "code",
   "execution_count": null,
   "metadata": {},
   "outputs": [],
   "source": [
    "whitepapers = read_csv('whitepapers.csv')\n",
    "# merge description and document text\n",
    "whitepapers['text'] = whitepapers.description + ' ' + whitepapers.document_text\n",
    "# filter down to relevant entries\n",
    "df = whitepapers.drop(columns=['description', 'document_text', 'document_tokens'])\n",
    "del whitepapers"
   ]
  },
  {
   "cell_type": "code",
   "execution_count": null,
   "metadata": {
    "scrolled": true
   },
   "outputs": [],
   "source": [
    "# tokenize (aka .split()++, thank you nltk)\n",
    "train_txt = ''\n",
    "for _, row in df.iterrows():\n",
    "    train_txt += row['text'].lower()\n",
    "tokens = word_tokenize(train_txt)\n",
    "del df"
   ]
  },
  {
   "cell_type": "code",
   "execution_count": null,
   "metadata": {},
   "outputs": [],
   "source": [
    "# word2idx and idx2word setup\n",
    "unique_tokens = set(tokens)\n",
    "w2x = {word: idx for (idx, word) in enumerate(unique_tokens)}\n",
    "x2w = {idx: word for (idx, word) in enumerate(unique_tokens)}\n",
    "indices = [w2x[w] for w in tokens]"
   ]
  },
  {
   "cell_type": "code",
   "execution_count": null,
   "metadata": {},
   "outputs": [],
   "source": [
    "# generate training data\n",
    "window = 2\n",
    "train_data = []\n",
    "for idx in range(len(indices)):\n",
    "    for r in range(-window, window + 1):\n",
    "        cxt = idx + r\n",
    "        if not ((cxt < 0) or (cxt >= len(indices)) or (idx == cxt)):\n",
    "            train_data.append([indices[idx], indices[cxt]])\n",
    "train_data = np.array(train_data)\n",
    "train_data = torch.LongTensor(train_data)"
   ]
  },
  {
   "cell_type": "code",
   "execution_count": null,
   "metadata": {},
   "outputs": [],
   "source": [
    "# record vocab_size\n",
    "vocab_size = len(unique_tokens)\n",
    "# sanity check\n",
    "for [x,y] in train_data[200100:200105]:\n",
    "    print(x2w[int(x)], x2w[int(y)])\n",
    "# clean memory\n",
    "del indices\n",
    "del tokens"
   ]
  },
  {
   "cell_type": "markdown",
   "metadata": {},
   "source": [
    "# 2. Continuous Bag-of-Words Model"
   ]
  },
  {
   "cell_type": "code",
   "execution_count": null,
   "metadata": {},
   "outputs": [],
   "source": [
    "class CBOW(nn.Module):\n",
    "    def __init__(self, vocab_size, embedding_dim, hidden_dim,\n",
    "                 context_size, batch_size):\n",
    "        super(CBOW, self).__init__()\n",
    "        self.batch_size = batch_size\n",
    "        self.embed = nn.Embedding(vocab_size, embedding_dim)\n",
    "        self.fc1 = nn.Linear(embedding_dim, hidden_dim)\n",
    "        self.fc2 = nn.Linear(hidden_dim, vocab_size)\n",
    "        self.out = nn.Softmax(dim=2)\n",
    "    \n",
    "    def forward(self, x):\n",
    "        x = self.embed(x).view(self.batch_size, 1, -1)\n",
    "        x = F.relu(self.fc1(x))\n",
    "        x = self.fc2(x)\n",
    "        return self.out(x).squeeze()"
   ]
  },
  {
   "cell_type": "code",
   "execution_count": null,
   "metadata": {},
   "outputs": [],
   "source": [
    "model = CBOW(vocab_size=vocab_size, embedding_dim=100, hidden_dim=128, context_size=2, batch_size=256).cuda()"
   ]
  },
  {
   "cell_type": "code",
   "execution_count": null,
   "metadata": {},
   "outputs": [],
   "source": [
    "def one_hot(idx_batch):\n",
    "    one_hot_mat = torch.zeros((len(idx_batch), vocab_size)).float()\n",
    "    indices = torch.LongTensor(idx_batch).view(-1, 1)\n",
    "    one_hot_mat.scatter_(1, indices, 1.0)\n",
    "    return one_hot_mat"
   ]
  },
  {
   "cell_type": "code",
   "execution_count": null,
   "metadata": {},
   "outputs": [],
   "source": [
    "def mat_loss(pred, gt):\n",
    "    delta = pred.float() - gt.float()\n",
    "    norm = torch.norm(delta, p=2, dim=1)\n",
    "    return (torch.sum(norm) / gt.shape[1])"
   ]
  },
  {
   "cell_type": "code",
   "execution_count": null,
   "metadata": {},
   "outputs": [],
   "source": [
    "def batchify(data, batch_size, use_cuda=False):\n",
    "    rm_size = len(data) % batch_size\n",
    "    x, y = data[:-rm_size, 0], data[:-rm_size, 1]\n",
    "    if use_cuda:\n",
    "        x = x.view(-1, batch_size).cuda()\n",
    "    else:\n",
    "        x = x.view(-1, batch_size)\n",
    "    y = y.view(-1, batch_size)\n",
    "    return x, y"
   ]
  },
  {
   "cell_type": "code",
   "execution_count": null,
   "metadata": {},
   "outputs": [],
   "source": [
    "x, y = batchify(train_data, batch_size=256, use_cuda=True)"
   ]
  },
  {
   "cell_type": "code",
   "execution_count": null,
   "metadata": {},
   "outputs": [],
   "source": [
    "def train(x_train, y_train, num_epochs, use_cuda=False):\n",
    "    loss_fn = mat_loss\n",
    "    optimizer = optim.SGD(model.parameters(), lr=1e-2)\n",
    "    scheduler = optim.lr_scheduler.StepLR(optimizer,\n",
    "                                          step_size=10,\n",
    "                                          gamma=0.5)\n",
    "    for epoch in tnrange(num_epochs, desc='epoch'):\n",
    "        total_loss = 0\n",
    "        for batch_idx in tqdm_notebook(range(x_train.shape[0]),\n",
    "                                       desc='batch', leave=False):\n",
    "            x = x_train[batch_idx, :]\n",
    "            y = y_train[batch_idx, :]\n",
    "            model.zero_grad()\n",
    "            log_prob = model(x)\n",
    "            gt = one_hot(y)\n",
    "            if use_cuda:\n",
    "                gt = gt.cuda()\n",
    "            loss = loss_fn(log_prob, gt)\n",
    "            loss.backward()\n",
    "            scheduler.step()\n",
    "            total_loss += loss.data\n",
    "        print(total_loss)\n",
    "        torch.save(model, 'models/model_{}'.format(total_loss))\n",
    "        print(\"Successfully Saved model_{}!\".format(total_loss))"
   ]
  },
  {
   "cell_type": "code",
   "execution_count": null,
   "metadata": {
    "scrolled": true
   },
   "outputs": [],
   "source": [
    "train(x, y, num_epochs=100, use_cuda=True)"
   ]
  },
  {
   "cell_type": "code",
   "execution_count": null,
   "metadata": {},
   "outputs": [],
   "source": []
  }
 ],
 "metadata": {
  "kernelspec": {
   "display_name": "Python 3",
   "language": "python",
   "name": "python3"
  },
  "language_info": {
   "codemirror_mode": {
    "name": "ipython",
    "version": 3
   },
   "file_extension": ".py",
   "mimetype": "text/x-python",
   "name": "python",
   "nbconvert_exporter": "python",
   "pygments_lexer": "ipython3",
   "version": "3.5.2"
  }
 },
 "nbformat": 4,
 "nbformat_minor": 2
}
